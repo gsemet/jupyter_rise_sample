{
 "cells": [
  {
   "cell_type": "markdown",
   "metadata": {},
   "source": [
    "Compare result to: http://www.slideviper.oquanta.info/tutorial/slideshow_tutorial_slides.html"
   ]
  },
  {
   "cell_type": "markdown",
   "metadata": {
    "slideshow": {
     "slide_type": "slide"
    }
   },
   "source": [
    "# {{ cookiecutter.title }}\n",
    "## Subtitle\n",
    "\n",
    "----\n",
    "\n",
    "**{{ cookiecutter.author_name }}**<br>\n",
    "{{ cookiecutter.author_email }}"
   ]
  },
  {
   "cell_type": "markdown",
   "metadata": {
    "slideshow": {
     "slide_type": "slide"
    }
   },
   "source": [
    "<center>![noimg](path/to/image.png)</center>"
   ]
  },
  {
   "cell_type": "markdown",
   "metadata": {},
   "source": []
  }
 ],
 "metadata": {
  "celltoolbar": "Slideshow",
  "kernelspec": {
   "display_name": "Python 3",
   "language": "python",
   "name": "python3"
  },
  "language_info": {
   "codemirror_mode": {
    "name": "ipython",
    "version": 3
   },
   "file_extension": ".py",
   "mimetype": "text/x-python",
   "name": "python",
   "nbconvert_exporter": "python",
   "pygments_lexer": "ipython3",
   "version": "3.6.5"
  },
  "livereveal": {
   "backimage": "mybackimage.png",
   "footer": "<h3>World!</h3>",
   "header": "<h1>Hello</h1>",
   "height": 768,
   "scroll": true,
   "theme": "sky",
   "width": 1024
  },
  "rise": {
   "autolaunch": true,
   "start_slideshow_at": "selected",
   "theme": "simple",
   "transition": "zoom"
  }
 },
 "nbformat": 4,
 "nbformat_minor": 2
}
